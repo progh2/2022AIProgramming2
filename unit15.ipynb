{
 "cells": [
  {
   "cell_type": "code",
   "execution_count": 3,
   "outputs": [
    {
     "name": "stdout",
     "output_type": "stream",
     "text": [
      "Defaulting to user installation because normal site-packages is not writeable\n",
      "Requirement already satisfied: pandas in c:\\programdata\\anaconda3\\lib\\site-packages (1.4.2)\n",
      "Requirement already satisfied: numpy>=1.18.5 in c:\\programdata\\anaconda3\\lib\\site-packages (from pandas) (1.21.5)\n",
      "Requirement already satisfied: pytz>=2020.1 in c:\\programdata\\anaconda3\\lib\\site-packages (from pandas) (2021.3)\n",
      "Requirement already satisfied: python-dateutil>=2.8.1 in c:\\programdata\\anaconda3\\lib\\site-packages (from pandas) (2.8.2)\n",
      "Requirement already satisfied: six>=1.5 in c:\\programdata\\anaconda3\\lib\\site-packages (from python-dateutil>=2.8.1->pandas) (1.16.0)\n",
      "Defaulting to user installation because normal site-packages is not writeable\n",
      "Requirement already satisfied: lxml in c:\\programdata\\anaconda3\\lib\\site-packages (4.8.0)\n",
      "Defaulting to user installation because normal site-packages is not writeable\n",
      "Requirement already satisfied: html5lib in c:\\users\\user\\appdata\\roaming\\python\\python39\\site-packages (1.1)\n",
      "Requirement already satisfied: webencodings in c:\\programdata\\anaconda3\\lib\\site-packages (from html5lib) (0.5.1)\n",
      "Requirement already satisfied: six>=1.9 in c:\\programdata\\anaconda3\\lib\\site-packages (from html5lib) (1.16.0)\n",
      "Defaulting to user installation because normal site-packages is not writeable\n",
      "Requirement already satisfied: BeautifulSoup4 in c:\\programdata\\anaconda3\\lib\\site-packages (4.11.1)\n",
      "Requirement already satisfied: soupsieve>1.2 in c:\\programdata\\anaconda3\\lib\\site-packages (from BeautifulSoup4) (2.3.1)\n",
      "Defaulting to user installation because normal site-packages is not writeable\n",
      "Requirement already satisfied: openpyxl in c:\\programdata\\anaconda3\\lib\\site-packages (3.0.9)\n",
      "Requirement already satisfied: et-xmlfile in c:\\programdata\\anaconda3\\lib\\site-packages (from openpyxl) (1.1.0)\n"
     ]
    }
   ],
   "source": [
    "!pip install pandas\n",
    "!pip install lxml\n",
    "!pip install html5lib\n",
    "!pip install BeautifulSoup4\n",
    "!pip install openpyxl"
   ],
   "metadata": {
    "collapsed": false,
    "pycharm": {
     "name": "#%%\n"
    }
   }
  },
  {
   "cell_type": "code",
   "execution_count": 73,
   "outputs": [
    {
     "name": "stdout",
     "output_type": "stream",
     "text": [
      "                                             Team Summer Olympic Games  \\\n",
      "                                  Team (IOC code)                    №   \n",
      "0                               Afghanistan (AFG)                   15   \n",
      "1                                   Algeria (ALG)                   14   \n",
      "2                                 Argentina (ARG)                   25   \n",
      "3                                   Armenia (ARM)                    7   \n",
      "4                         Australasia (ANZ) [ANZ]                    2   \n",
      "..                                            ...                  ...   \n",
      "151                          Zimbabwe (ZIM) [ZIM]                   14   \n",
      "152      Independent Olympic Athletes (IOA) [IOA]                    3   \n",
      "153  Independent Olympic Participants (IOP) [IOP]                    1   \n",
      "154                        Mixed team (ZZX) [ZZX]                    3   \n",
      "155                                        Totals                   32   \n",
      "\n",
      "                                                                     \\\n",
      "    Unnamed: 2_level_1 Unnamed: 3_level_1 Unnamed: 4_level_1  Total   \n",
      "0                    0                  0                  2      2   \n",
      "1                    5                  4                  8     17   \n",
      "2                   21                 26                 30     77   \n",
      "3                    2                  8                  8     18   \n",
      "4                    3                  4                  5     12   \n",
      "..                 ...                ...                ...    ...   \n",
      "151                  3                  4                  1      8   \n",
      "152                  1                  0                  1      2   \n",
      "153                  0                  1                  2      3   \n",
      "154                 11                  6                  8     25   \n",
      "155               5464               5427               5893  16784   \n",
      "\n",
      "    Winter Olympic Games                                        \\\n",
      "                       № Unnamed: 7_level_1 Unnamed: 8_level_1   \n",
      "0                      0                  0                  0   \n",
      "1                      3                  0                  0   \n",
      "2                     19                  0                  0   \n",
      "3                      7                  0                  0   \n",
      "4                      0                  0                  0   \n",
      "..                   ...                ...                ...   \n",
      "151                    1                  0                  0   \n",
      "152                    0                  0                  0   \n",
      "153                    0                  0                  0   \n",
      "154                    0                  0                  0   \n",
      "155                   23               1062               1059   \n",
      "\n",
      "                             Combined total                      \\\n",
      "    Unnamed: 9_level_1 Total              № Unnamed: 12_level_1   \n",
      "0                    0     0             15                   0   \n",
      "1                    0     0             17                   5   \n",
      "2                    0     0             44                  21   \n",
      "3                    0     0             14                   2   \n",
      "4                    0     0              2                   3   \n",
      "..                 ...   ...            ...                 ...   \n",
      "151                  0     0             15                   3   \n",
      "152                  0     0              3                   1   \n",
      "153                  0     0              1                   0   \n",
      "154                  0     0              3                  11   \n",
      "155               1050  3171             55                6526   \n",
      "\n",
      "                                                    \n",
      "    Unnamed: 13_level_1 Unnamed: 14_level_1  Total  \n",
      "0                     0                   2      2  \n",
      "1                     4                   8     17  \n",
      "2                    26                  30     77  \n",
      "3                     8                   8     18  \n",
      "4                     4                   5     12  \n",
      "..                  ...                 ...    ...  \n",
      "151                   4                   1      8  \n",
      "152                   0                   1      2  \n",
      "153                   1                   2      3  \n",
      "154                   6                   8     25  \n",
      "155                6486                6943  19955  \n",
      "\n",
      "[156 rows x 16 columns]\n"
     ]
    }
   ],
   "source": [
    "import pandas as pd\n",
    "#url = \"https://en.wikipedia.org/wiki/All-time_Olympic_Games_medal_table\"\n",
    "url = 'https://en.wikipedia.org/w/index.php?title=All-time_Olympic_Games_medal_table&oldid=1070338759'\n",
    "#url = \"https://ko.wikipedia.org/wiki/%EC%98%AC%EB%A6%BC%ED%94%BD_%EB%A9%94%EB%8B%AC_%EC%A7%91%EA%B3%84\"\n",
    "df = pd.read_html(url)\n",
    "print(df[1])"
   ],
   "metadata": {
    "collapsed": false,
    "pycharm": {
     "name": "#%%\n"
    }
   }
  },
  {
   "cell_type": "code",
   "execution_count": 74,
   "outputs": [
    {
     "name": "stdout",
     "output_type": "stream",
     "text": [
      "                                             Summer Olympic Games  \\\n",
      "Team                                                                \n",
      "Team (IOC code)                                                 №   \n",
      "Afghanistan (AFG)                                              15   \n",
      "Algeria (ALG)                                                  14   \n",
      "Argentina (ARG)                                                25   \n",
      "Armenia (ARM)                                                   7   \n",
      "...                                                           ...   \n",
      "Zimbabwe (ZIM) [ZIM]                                           14   \n",
      "Independent Olympic Athletes (IOA) [IOA]                        3   \n",
      "Independent Olympic Participants (IOP) [IOP]                    1   \n",
      "Mixed team (ZZX) [ZZX]                                          3   \n",
      "Totals                                                         32   \n",
      "\n",
      "                                              Summer Olympic Games.1  \\\n",
      "Team                                                                   \n",
      "Team (IOC code)                                                  NaN   \n",
      "Afghanistan (AFG)                                                0.0   \n",
      "Algeria (ALG)                                                    5.0   \n",
      "Argentina (ARG)                                                 21.0   \n",
      "Armenia (ARM)                                                    2.0   \n",
      "...                                                              ...   \n",
      "Zimbabwe (ZIM) [ZIM]                                             3.0   \n",
      "Independent Olympic Athletes (IOA) [IOA]                         1.0   \n",
      "Independent Olympic Participants (IOP) [IOP]                     0.0   \n",
      "Mixed team (ZZX) [ZZX]                                          11.0   \n",
      "Totals                                                        5464.0   \n",
      "\n",
      "                                              Summer Olympic Games.2  \\\n",
      "Team                                                                   \n",
      "Team (IOC code)                                                  NaN   \n",
      "Afghanistan (AFG)                                                0.0   \n",
      "Algeria (ALG)                                                    4.0   \n",
      "Argentina (ARG)                                                 26.0   \n",
      "Armenia (ARM)                                                    8.0   \n",
      "...                                                              ...   \n",
      "Zimbabwe (ZIM) [ZIM]                                             4.0   \n",
      "Independent Olympic Athletes (IOA) [IOA]                         0.0   \n",
      "Independent Olympic Participants (IOP) [IOP]                     1.0   \n",
      "Mixed team (ZZX) [ZZX]                                           6.0   \n",
      "Totals                                                        5427.0   \n",
      "\n",
      "                                              Summer Olympic Games.3  \\\n",
      "Team                                                                   \n",
      "Team (IOC code)                                                  NaN   \n",
      "Afghanistan (AFG)                                                2.0   \n",
      "Algeria (ALG)                                                    8.0   \n",
      "Argentina (ARG)                                                 30.0   \n",
      "Armenia (ARM)                                                    8.0   \n",
      "...                                                              ...   \n",
      "Zimbabwe (ZIM) [ZIM]                                             1.0   \n",
      "Independent Olympic Athletes (IOA) [IOA]                         1.0   \n",
      "Independent Olympic Participants (IOP) [IOP]                     2.0   \n",
      "Mixed team (ZZX) [ZZX]                                           8.0   \n",
      "Totals                                                        5893.0   \n",
      "\n",
      "                                             Summer Olympic Games.4  \\\n",
      "Team                                                                  \n",
      "Team (IOC code)                                               Total   \n",
      "Afghanistan (AFG)                                                 2   \n",
      "Algeria (ALG)                                                    17   \n",
      "Argentina (ARG)                                                  77   \n",
      "Armenia (ARM)                                                    18   \n",
      "...                                                             ...   \n",
      "Zimbabwe (ZIM) [ZIM]                                              8   \n",
      "Independent Olympic Athletes (IOA) [IOA]                          2   \n",
      "Independent Olympic Participants (IOP) [IOP]                      3   \n",
      "Mixed team (ZZX) [ZZX]                                           25   \n",
      "Totals                                                        16784   \n",
      "\n",
      "                                             Winter Olympic Games  \\\n",
      "Team                                                                \n",
      "Team (IOC code)                                                 №   \n",
      "Afghanistan (AFG)                                               0   \n",
      "Algeria (ALG)                                                   3   \n",
      "Argentina (ARG)                                                19   \n",
      "Armenia (ARM)                                                   7   \n",
      "...                                                           ...   \n",
      "Zimbabwe (ZIM) [ZIM]                                            1   \n",
      "Independent Olympic Athletes (IOA) [IOA]                        0   \n",
      "Independent Olympic Participants (IOP) [IOP]                    0   \n",
      "Mixed team (ZZX) [ZZX]                                          0   \n",
      "Totals                                                         23   \n",
      "\n",
      "                                              Winter Olympic Games.1  \\\n",
      "Team                                                                   \n",
      "Team (IOC code)                                                  NaN   \n",
      "Afghanistan (AFG)                                                0.0   \n",
      "Algeria (ALG)                                                    0.0   \n",
      "Argentina (ARG)                                                  0.0   \n",
      "Armenia (ARM)                                                    0.0   \n",
      "...                                                              ...   \n",
      "Zimbabwe (ZIM) [ZIM]                                             0.0   \n",
      "Independent Olympic Athletes (IOA) [IOA]                         0.0   \n",
      "Independent Olympic Participants (IOP) [IOP]                     0.0   \n",
      "Mixed team (ZZX) [ZZX]                                           0.0   \n",
      "Totals                                                        1062.0   \n",
      "\n",
      "                                              Winter Olympic Games.2  \\\n",
      "Team                                                                   \n",
      "Team (IOC code)                                                  NaN   \n",
      "Afghanistan (AFG)                                                0.0   \n",
      "Algeria (ALG)                                                    0.0   \n",
      "Argentina (ARG)                                                  0.0   \n",
      "Armenia (ARM)                                                    0.0   \n",
      "...                                                              ...   \n",
      "Zimbabwe (ZIM) [ZIM]                                             0.0   \n",
      "Independent Olympic Athletes (IOA) [IOA]                         0.0   \n",
      "Independent Olympic Participants (IOP) [IOP]                     0.0   \n",
      "Mixed team (ZZX) [ZZX]                                           0.0   \n",
      "Totals                                                        1059.0   \n",
      "\n",
      "                                              Winter Olympic Games.3  \\\n",
      "Team                                                                   \n",
      "Team (IOC code)                                                  NaN   \n",
      "Afghanistan (AFG)                                                0.0   \n",
      "Algeria (ALG)                                                    0.0   \n",
      "Argentina (ARG)                                                  0.0   \n",
      "Armenia (ARM)                                                    0.0   \n",
      "...                                                              ...   \n",
      "Zimbabwe (ZIM) [ZIM]                                             0.0   \n",
      "Independent Olympic Athletes (IOA) [IOA]                         0.0   \n",
      "Independent Olympic Participants (IOP) [IOP]                     0.0   \n",
      "Mixed team (ZZX) [ZZX]                                           0.0   \n",
      "Totals                                                        1050.0   \n",
      "\n",
      "                                             Winter Olympic Games.4  \\\n",
      "Team                                                                  \n",
      "Team (IOC code)                                               Total   \n",
      "Afghanistan (AFG)                                                 0   \n",
      "Algeria (ALG)                                                     0   \n",
      "Argentina (ARG)                                                   0   \n",
      "Armenia (ARM)                                                     0   \n",
      "...                                                             ...   \n",
      "Zimbabwe (ZIM) [ZIM]                                              0   \n",
      "Independent Olympic Athletes (IOA) [IOA]                          0   \n",
      "Independent Olympic Participants (IOP) [IOP]                      0   \n",
      "Mixed team (ZZX) [ZZX]                                            0   \n",
      "Totals                                                         3171   \n",
      "\n",
      "                                             Combined total  Combined total.1  \\\n",
      "Team                                                                            \n",
      "Team (IOC code)                                           №               NaN   \n",
      "Afghanistan (AFG)                                        15               0.0   \n",
      "Algeria (ALG)                                            17               5.0   \n",
      "Argentina (ARG)                                          44              21.0   \n",
      "Armenia (ARM)                                            14               2.0   \n",
      "...                                                     ...               ...   \n",
      "Zimbabwe (ZIM) [ZIM]                                     15               3.0   \n",
      "Independent Olympic Athletes (IOA) [IOA]                  3               1.0   \n",
      "Independent Olympic Participants (IOP) [IOP]              1               0.0   \n",
      "Mixed team (ZZX) [ZZX]                                    3              11.0   \n",
      "Totals                                                   55            6526.0   \n",
      "\n",
      "                                              Combined total.2  \\\n",
      "Team                                                             \n",
      "Team (IOC code)                                            NaN   \n",
      "Afghanistan (AFG)                                          0.0   \n",
      "Algeria (ALG)                                              4.0   \n",
      "Argentina (ARG)                                           26.0   \n",
      "Armenia (ARM)                                              8.0   \n",
      "...                                                        ...   \n",
      "Zimbabwe (ZIM) [ZIM]                                       4.0   \n",
      "Independent Olympic Athletes (IOA) [IOA]                   0.0   \n",
      "Independent Olympic Participants (IOP) [IOP]               1.0   \n",
      "Mixed team (ZZX) [ZZX]                                     6.0   \n",
      "Totals                                                  6486.0   \n",
      "\n",
      "                                              Combined total.3  \\\n",
      "Team                                                             \n",
      "Team (IOC code)                                            NaN   \n",
      "Afghanistan (AFG)                                          2.0   \n",
      "Algeria (ALG)                                              8.0   \n",
      "Argentina (ARG)                                           30.0   \n",
      "Armenia (ARM)                                              8.0   \n",
      "...                                                        ...   \n",
      "Zimbabwe (ZIM) [ZIM]                                       1.0   \n",
      "Independent Olympic Athletes (IOA) [IOA]                   1.0   \n",
      "Independent Olympic Participants (IOP) [IOP]               2.0   \n",
      "Mixed team (ZZX) [ZZX]                                     8.0   \n",
      "Totals                                                  6943.0   \n",
      "\n",
      "                                             Combined total.4  \n",
      "Team                                                           \n",
      "Team (IOC code)                                         Total  \n",
      "Afghanistan (AFG)                                           2  \n",
      "Algeria (ALG)                                              17  \n",
      "Argentina (ARG)                                            77  \n",
      "Armenia (ARM)                                              18  \n",
      "...                                                       ...  \n",
      "Zimbabwe (ZIM) [ZIM]                                        8  \n",
      "Independent Olympic Athletes (IOA) [IOA]                    2  \n",
      "Independent Olympic Participants (IOP) [IOP]                3  \n",
      "Mixed team (ZZX) [ZZX]                                     25  \n",
      "Totals                                                  19955  \n",
      "\n",
      "[157 rows x 15 columns]\n"
     ]
    }
   ],
   "source": [
    "import pandas as pd\n",
    "#url = \"https://en.wikipedia.org/wiki/All-time_Olympic_Games_medal_table\"\n",
    "url = 'https://en.wikipedia.org/w/index.php?title=All-time_Olympic_Games_medal_table&oldid=1070338759'\n",
    "df = pd.read_html(url, header=0, index_col = 0)\n",
    "print(df[1])"
   ],
   "metadata": {
    "collapsed": false,
    "pycharm": {
     "name": "#%%\n"
    }
   }
  },
  {
   "cell_type": "code",
   "execution_count": 75,
   "outputs": [
    {
     "data": {
      "text/plain": "                                             Summer Olympic Games  \\\nTeam                                                                \nTeam (IOC code)                                                 №   \nAfghanistan (AFG)                                              15   \nAlgeria (ALG)                                                  14   \nArgentina (ARG)                                                25   \nArmenia (ARM)                                                   7   \n...                                                           ...   \nZimbabwe (ZIM) [ZIM]                                           14   \nIndependent Olympic Athletes (IOA) [IOA]                        3   \nIndependent Olympic Participants (IOP) [IOP]                    1   \nMixed team (ZZX) [ZZX]                                          3   \nTotals                                                         32   \n\n                                              Summer Olympic Games.1  \\\nTeam                                                                   \nTeam (IOC code)                                                  NaN   \nAfghanistan (AFG)                                                0.0   \nAlgeria (ALG)                                                    5.0   \nArgentina (ARG)                                                 21.0   \nArmenia (ARM)                                                    2.0   \n...                                                              ...   \nZimbabwe (ZIM) [ZIM]                                             3.0   \nIndependent Olympic Athletes (IOA) [IOA]                         1.0   \nIndependent Olympic Participants (IOP) [IOP]                     0.0   \nMixed team (ZZX) [ZZX]                                          11.0   \nTotals                                                        5464.0   \n\n                                              Summer Olympic Games.2  \\\nTeam                                                                   \nTeam (IOC code)                                                  NaN   \nAfghanistan (AFG)                                                0.0   \nAlgeria (ALG)                                                    4.0   \nArgentina (ARG)                                                 26.0   \nArmenia (ARM)                                                    8.0   \n...                                                              ...   \nZimbabwe (ZIM) [ZIM]                                             4.0   \nIndependent Olympic Athletes (IOA) [IOA]                         0.0   \nIndependent Olympic Participants (IOP) [IOP]                     1.0   \nMixed team (ZZX) [ZZX]                                           6.0   \nTotals                                                        5427.0   \n\n                                              Summer Olympic Games.3  \\\nTeam                                                                   \nTeam (IOC code)                                                  NaN   \nAfghanistan (AFG)                                                2.0   \nAlgeria (ALG)                                                    8.0   \nArgentina (ARG)                                                 30.0   \nArmenia (ARM)                                                    8.0   \n...                                                              ...   \nZimbabwe (ZIM) [ZIM]                                             1.0   \nIndependent Olympic Athletes (IOA) [IOA]                         1.0   \nIndependent Olympic Participants (IOP) [IOP]                     2.0   \nMixed team (ZZX) [ZZX]                                           8.0   \nTotals                                                        5893.0   \n\n                                             Summer Olympic Games.4  \nTeam                                                                 \nTeam (IOC code)                                               Total  \nAfghanistan (AFG)                                                 2  \nAlgeria (ALG)                                                    17  \nArgentina (ARG)                                                  77  \nArmenia (ARM)                                                    18  \n...                                                             ...  \nZimbabwe (ZIM) [ZIM]                                              8  \nIndependent Olympic Athletes (IOA) [IOA]                          2  \nIndependent Olympic Participants (IOP) [IOP]                      3  \nMixed team (ZZX) [ZZX]                                           25  \nTotals                                                        16784  \n\n[157 rows x 5 columns]",
      "text/html": "<div>\n<style scoped>\n    .dataframe tbody tr th:only-of-type {\n        vertical-align: middle;\n    }\n\n    .dataframe tbody tr th {\n        vertical-align: top;\n    }\n\n    .dataframe thead th {\n        text-align: right;\n    }\n</style>\n<table border=\"1\" class=\"dataframe\">\n  <thead>\n    <tr style=\"text-align: right;\">\n      <th></th>\n      <th>Summer Olympic Games</th>\n      <th>Summer Olympic Games.1</th>\n      <th>Summer Olympic Games.2</th>\n      <th>Summer Olympic Games.3</th>\n      <th>Summer Olympic Games.4</th>\n    </tr>\n    <tr>\n      <th>Team</th>\n      <th></th>\n      <th></th>\n      <th></th>\n      <th></th>\n      <th></th>\n    </tr>\n  </thead>\n  <tbody>\n    <tr>\n      <th>Team (IOC code)</th>\n      <td>№</td>\n      <td>NaN</td>\n      <td>NaN</td>\n      <td>NaN</td>\n      <td>Total</td>\n    </tr>\n    <tr>\n      <th>Afghanistan (AFG)</th>\n      <td>15</td>\n      <td>0.0</td>\n      <td>0.0</td>\n      <td>2.0</td>\n      <td>2</td>\n    </tr>\n    <tr>\n      <th>Algeria (ALG)</th>\n      <td>14</td>\n      <td>5.0</td>\n      <td>4.0</td>\n      <td>8.0</td>\n      <td>17</td>\n    </tr>\n    <tr>\n      <th>Argentina (ARG)</th>\n      <td>25</td>\n      <td>21.0</td>\n      <td>26.0</td>\n      <td>30.0</td>\n      <td>77</td>\n    </tr>\n    <tr>\n      <th>Armenia (ARM)</th>\n      <td>7</td>\n      <td>2.0</td>\n      <td>8.0</td>\n      <td>8.0</td>\n      <td>18</td>\n    </tr>\n    <tr>\n      <th>...</th>\n      <td>...</td>\n      <td>...</td>\n      <td>...</td>\n      <td>...</td>\n      <td>...</td>\n    </tr>\n    <tr>\n      <th>Zimbabwe (ZIM) [ZIM]</th>\n      <td>14</td>\n      <td>3.0</td>\n      <td>4.0</td>\n      <td>1.0</td>\n      <td>8</td>\n    </tr>\n    <tr>\n      <th>Independent Olympic Athletes (IOA) [IOA]</th>\n      <td>3</td>\n      <td>1.0</td>\n      <td>0.0</td>\n      <td>1.0</td>\n      <td>2</td>\n    </tr>\n    <tr>\n      <th>Independent Olympic Participants (IOP) [IOP]</th>\n      <td>1</td>\n      <td>0.0</td>\n      <td>1.0</td>\n      <td>2.0</td>\n      <td>3</td>\n    </tr>\n    <tr>\n      <th>Mixed team (ZZX) [ZZX]</th>\n      <td>3</td>\n      <td>11.0</td>\n      <td>6.0</td>\n      <td>8.0</td>\n      <td>25</td>\n    </tr>\n    <tr>\n      <th>Totals</th>\n      <td>32</td>\n      <td>5464.0</td>\n      <td>5427.0</td>\n      <td>5893.0</td>\n      <td>16784</td>\n    </tr>\n  </tbody>\n</table>\n<p>157 rows × 5 columns</p>\n</div>"
     },
     "execution_count": 75,
     "metadata": {},
     "output_type": "execute_result"
    }
   ],
   "source": [
    "summer = df[1].iloc[0:,:5]\n",
    "summer"
   ],
   "metadata": {
    "collapsed": false,
    "pycharm": {
     "name": "#%%\n"
    }
   }
  },
  {
   "cell_type": "code",
   "execution_count": 76,
   "outputs": [
    {
     "name": "stdout",
     "output_type": "stream",
     "text": [
      "                                             경기수       금       은       동  \\\n",
      "Team                                                                       \n",
      "Team (IOC code)                                №     NaN     NaN     NaN   \n",
      "Afghanistan (AFG)                             15     0.0     0.0     2.0   \n",
      "Algeria (ALG)                                 14     5.0     4.0     8.0   \n",
      "Argentina (ARG)                               25    21.0    26.0    30.0   \n",
      "Armenia (ARM)                                  7     2.0     8.0     8.0   \n",
      "...                                           ..     ...     ...     ...   \n",
      "Zimbabwe (ZIM) [ZIM]                          14     3.0     4.0     1.0   \n",
      "Independent Olympic Athletes (IOA) [IOA]       3     1.0     0.0     1.0   \n",
      "Independent Olympic Participants (IOP) [IOP]   1     0.0     1.0     2.0   \n",
      "Mixed team (ZZX) [ZZX]                         3    11.0     6.0     8.0   \n",
      "Totals                                        32  5464.0  5427.0  5893.0   \n",
      "\n",
      "                                                  계  \n",
      "Team                                                 \n",
      "Team (IOC code)                               Total  \n",
      "Afghanistan (AFG)                                 2  \n",
      "Algeria (ALG)                                    17  \n",
      "Argentina (ARG)                                  77  \n",
      "Armenia (ARM)                                    18  \n",
      "...                                             ...  \n",
      "Zimbabwe (ZIM) [ZIM]                              8  \n",
      "Independent Olympic Athletes (IOA) [IOA]          2  \n",
      "Independent Olympic Participants (IOP) [IOP]      3  \n",
      "Mixed team (ZZX) [ZZX]                           25  \n",
      "Totals                                        16784  \n",
      "\n",
      "[157 rows x 5 columns]\n"
     ]
    }
   ],
   "source": [
    "summer.columns = ['경기수', '금', '은', '동', '계']\n",
    "print(summer)"
   ],
   "metadata": {
    "collapsed": false,
    "pycharm": {
     "name": "#%%\n"
    }
   }
  },
  {
   "cell_type": "code",
   "execution_count": 85,
   "outputs": [
    {
     "name": "stdout",
     "output_type": "stream",
     "text": [
      "                                        경기수       금       은       동      계\n",
      "Team                                                                      \n",
      "Totals                                   32  5464.0  5427.0  5893.0  16784\n",
      "United States (USA) [P] [Q] [R] [Z] [F]  28  1060.0   831.0   738.0   2629\n",
      "Soviet Union (URS) [URS]                  9   395.0   319.0   296.0   1010\n",
      "Great Britain (GBR) [GBR] [Z]            29   285.0   319.0   314.0    918\n",
      "China (CHN) [CHN]                        11   262.0   199.0   173.0    634\n",
      "...                                      ..     ...     ...     ...    ...\n",
      "North Macedonia (MKD)                     7     0.0     1.0     1.0      2\n",
      "Paraguay (PAR)                           13     0.0     1.0     0.0      1\n",
      "San Marino (SMR)                         15     0.0     1.0     2.0      3\n",
      "Saudi Arabia (KSA)                       12     0.0     2.0     2.0      4\n",
      "Lebanon (LIB)                            18     0.0     2.0     2.0      4\n",
      "\n",
      "[156 rows x 5 columns]\n"
     ]
    }
   ],
   "source": [
    "import pandas as pd\n",
    "# 최신 올림픽 위키 페이지의 경우 편집 실수로 잘못된 입력이 되어있어 HTML 파싱에 에러 발생.\n",
    "# 이전 날짜 중 적당한 날짜의 페이지를 가져와서 처리(위키의 히스토리 기능 활용)\n",
    "url = 'https://en.wikipedia.org/w/index.php?title=All-time_Olympic_Games_medal_table&oldid=1070338759'\n",
    "df = pd.read_html(url, header=0, index_col = 0) # 헤더 제거. 하지만 헤더가 2행이라 1행 남아있음. 숫자열도 제거\n",
    "summer = df[1].iloc[1:,:5] # 나머지 헤더행도 제외해서 가져오기.\n",
    "summer.columns = [\"경기수\", \"금\", \"은\", \"동\", \"계\"]\n",
    "summer = summer.sort_values(\"금\", ascending=False)\n",
    "print(summer)"
   ],
   "metadata": {
    "collapsed": false,
    "pycharm": {
     "name": "#%%\n"
    }
   }
  },
  {
   "cell_type": "code",
   "execution_count": 78,
   "outputs": [],
   "source": [
    "summer.to_excel('하계올림픽메달.xlsx')"
   ],
   "metadata": {
    "collapsed": false,
    "pycharm": {
     "name": "#%%\n"
    }
   }
  },
  {
   "cell_type": "code",
   "execution_count": 1,
   "outputs": [
    {
     "name": "stdout",
     "output_type": "stream",
     "text": [
      "DatetimeIndex(['2000-01-01', '2000-01-02', '2000-01-03', '2000-01-04',\n",
      "               '2000-01-05', '2000-01-06', '2000-01-07', '2000-01-08'],\n",
      "              dtype='datetime64[ns]', freq='D')\n"
     ]
    }
   ],
   "source": [
    "import pandas as pd\n",
    "index = pd.date_range('1/1/2000', periods=8)\n",
    "print(index)"
   ],
   "metadata": {
    "collapsed": false,
    "pycharm": {
     "name": "#%%\n"
    }
   }
  },
  {
   "cell_type": "code",
   "execution_count": 2,
   "outputs": [
    {
     "name": "stdout",
     "output_type": "stream",
     "text": [
      "DatetimeIndex(['2022-01-01', '2022-01-02', '2022-01-03', '2022-01-04',\n",
      "               '2022-01-05', '2022-01-06', '2022-01-07', '2022-01-08'],\n",
      "              dtype='datetime64[ns]', freq='D')\n"
     ]
    }
   ],
   "source": [
    "import pandas as pd\n",
    "index = pd.date_range('2022-01-01', periods=8)\n",
    "print(index)"
   ],
   "metadata": {
    "collapsed": false,
    "pycharm": {
     "name": "#%%\n"
    }
   }
  },
  {
   "cell_type": "code",
   "execution_count": 3,
   "outputs": [
    {
     "name": "stdout",
     "output_type": "stream",
     "text": [
      "DatetimeIndex(['2022-01-31', '2022-02-28', '2022-03-31', '2022-04-30',\n",
      "               '2022-05-31', '2022-06-30', '2022-07-31', '2022-08-31'],\n",
      "              dtype='datetime64[ns]', freq='M')\n"
     ]
    }
   ],
   "source": [
    "import pandas as pd\n",
    "index = pd.date_range('2022-01-01', periods=8, freq='M')\n",
    "print(index)"
   ],
   "metadata": {
    "collapsed": false,
    "pycharm": {
     "name": "#%%\n"
    }
   }
  },
  {
   "cell_type": "code",
   "execution_count": 6,
   "outputs": [
    {
     "data": {
      "text/plain": "                   A         B         C\n2022-01-01  0.162675  0.333444  0.629259\n2022-01-02  0.712520  0.272379  0.349200\n2022-01-03  0.226277  0.418445  0.983359\n2022-01-04  0.626870  0.571372  0.123894\n2022-01-05  0.970460  0.905244  0.691586\n2022-01-06  0.131526  0.937572  0.126933\n2022-01-07  0.455037  0.345282  0.810147\n2022-01-08  0.299779  0.470451  0.857514",
      "text/html": "<div>\n<style scoped>\n    .dataframe tbody tr th:only-of-type {\n        vertical-align: middle;\n    }\n\n    .dataframe tbody tr th {\n        vertical-align: top;\n    }\n\n    .dataframe thead th {\n        text-align: right;\n    }\n</style>\n<table border=\"1\" class=\"dataframe\">\n  <thead>\n    <tr style=\"text-align: right;\">\n      <th></th>\n      <th>A</th>\n      <th>B</th>\n      <th>C</th>\n    </tr>\n  </thead>\n  <tbody>\n    <tr>\n      <th>2022-01-01</th>\n      <td>0.162675</td>\n      <td>0.333444</td>\n      <td>0.629259</td>\n    </tr>\n    <tr>\n      <th>2022-01-02</th>\n      <td>0.712520</td>\n      <td>0.272379</td>\n      <td>0.349200</td>\n    </tr>\n    <tr>\n      <th>2022-01-03</th>\n      <td>0.226277</td>\n      <td>0.418445</td>\n      <td>0.983359</td>\n    </tr>\n    <tr>\n      <th>2022-01-04</th>\n      <td>0.626870</td>\n      <td>0.571372</td>\n      <td>0.123894</td>\n    </tr>\n    <tr>\n      <th>2022-01-05</th>\n      <td>0.970460</td>\n      <td>0.905244</td>\n      <td>0.691586</td>\n    </tr>\n    <tr>\n      <th>2022-01-06</th>\n      <td>0.131526</td>\n      <td>0.937572</td>\n      <td>0.126933</td>\n    </tr>\n    <tr>\n      <th>2022-01-07</th>\n      <td>0.455037</td>\n      <td>0.345282</td>\n      <td>0.810147</td>\n    </tr>\n    <tr>\n      <th>2022-01-08</th>\n      <td>0.299779</td>\n      <td>0.470451</td>\n      <td>0.857514</td>\n    </tr>\n  </tbody>\n</table>\n</div>"
     },
     "execution_count": 6,
     "metadata": {},
     "output_type": "execute_result"
    }
   ],
   "source": [
    "import pandas as pd\n",
    "import numpy as np\n",
    "index = pd.date_range('2022-01-01', periods=8, freq='D')\n",
    "df = pd.DataFrame(np.random.rand(8,3), index=index, columns=list('ABC'))\n",
    "df"
   ],
   "metadata": {
    "collapsed": false,
    "pycharm": {
     "name": "#%%\n"
    }
   }
  },
  {
   "cell_type": "code",
   "execution_count": 7,
   "outputs": [
    {
     "name": "stdout",
     "output_type": "stream",
     "text": [
      "2022-01-01    0.333444\n",
      "2022-01-02    0.272379\n",
      "2022-01-03    0.418445\n",
      "2022-01-04    0.571372\n",
      "2022-01-05    0.905244\n",
      "2022-01-06    0.937572\n",
      "2022-01-07    0.345282\n",
      "2022-01-08    0.470451\n",
      "Freq: D, Name: B, dtype: float64\n"
     ]
    }
   ],
   "source": [
    "print(df['B'])"
   ],
   "metadata": {
    "collapsed": false,
    "pycharm": {
     "name": "#%%\n"
    }
   }
  },
  {
   "cell_type": "code",
   "execution_count": 10,
   "outputs": [
    {
     "name": "stdout",
     "output_type": "stream",
     "text": [
      "2022-01-01    False\n",
      "2022-01-02    False\n",
      "2022-01-03     True\n",
      "2022-01-04     True\n",
      "2022-01-05     True\n",
      "2022-01-06     True\n",
      "2022-01-07    False\n",
      "2022-01-08     True\n",
      "Freq: D, Name: B, dtype: bool\n"
     ]
    }
   ],
   "source": [
    "df2 = df['B'] > 0.4\n",
    "print(df2)"
   ],
   "metadata": {
    "collapsed": false,
    "pycharm": {
     "name": "#%%\n"
    }
   }
  },
  {
   "cell_type": "code",
   "execution_count": 11,
   "outputs": [
    {
     "name": "stdout",
     "output_type": "stream",
     "text": [
      "                   A         B         C\n",
      "2022-01-03  0.226277  0.418445  0.983359\n",
      "2022-01-04  0.626870  0.571372  0.123894\n",
      "2022-01-05  0.970460  0.905244  0.691586\n",
      "2022-01-06  0.131526  0.937572  0.126933\n",
      "2022-01-08  0.299779  0.470451  0.857514\n"
     ]
    }
   ],
   "source": [
    "df2 = df[df['B'] > 0.4]\n",
    "print(df2)"
   ],
   "metadata": {
    "collapsed": false,
    "pycharm": {
     "name": "#%%\n"
    }
   }
  },
  {
   "cell_type": "code",
   "execution_count": 12,
   "outputs": [
    {
     "data": {
      "text/plain": "   2022-01-03  2022-01-04  2022-01-05  2022-01-06  2022-01-08\nA    0.226277    0.626870    0.970460    0.131526    0.299779\nB    0.418445    0.571372    0.905244    0.937572    0.470451\nC    0.983359    0.123894    0.691586    0.126933    0.857514",
      "text/html": "<div>\n<style scoped>\n    .dataframe tbody tr th:only-of-type {\n        vertical-align: middle;\n    }\n\n    .dataframe tbody tr th {\n        vertical-align: top;\n    }\n\n    .dataframe thead th {\n        text-align: right;\n    }\n</style>\n<table border=\"1\" class=\"dataframe\">\n  <thead>\n    <tr style=\"text-align: right;\">\n      <th></th>\n      <th>2022-01-03</th>\n      <th>2022-01-04</th>\n      <th>2022-01-05</th>\n      <th>2022-01-06</th>\n      <th>2022-01-08</th>\n    </tr>\n  </thead>\n  <tbody>\n    <tr>\n      <th>A</th>\n      <td>0.226277</td>\n      <td>0.626870</td>\n      <td>0.970460</td>\n      <td>0.131526</td>\n      <td>0.299779</td>\n    </tr>\n    <tr>\n      <th>B</th>\n      <td>0.418445</td>\n      <td>0.571372</td>\n      <td>0.905244</td>\n      <td>0.937572</td>\n      <td>0.470451</td>\n    </tr>\n    <tr>\n      <th>C</th>\n      <td>0.983359</td>\n      <td>0.123894</td>\n      <td>0.691586</td>\n      <td>0.126933</td>\n      <td>0.857514</td>\n    </tr>\n  </tbody>\n</table>\n</div>"
     },
     "execution_count": 12,
     "metadata": {},
     "output_type": "execute_result"
    }
   ],
   "source": [
    "df2.T"
   ],
   "metadata": {
    "collapsed": false,
    "pycharm": {
     "name": "#%%\n"
    }
   }
  },
  {
   "cell_type": "code",
   "execution_count": 15,
   "outputs": [
    {
     "data": {
      "text/plain": "                   A         B         C         D\n2022-01-01  0.162675  0.333444  0.629259  0.487863\n2022-01-02  0.712520  0.272379  0.349200  2.615911\n2022-01-03  0.226277  0.418445  0.983359  0.540756\n2022-01-04  0.626870  0.571372  0.123894  1.097131\n2022-01-05  0.970460  0.905244  0.691586  1.072043\n2022-01-06  0.131526  0.937572  0.126933  0.140284\n2022-01-07  0.455037  0.345282  0.810147  1.317872\n2022-01-08  0.299779  0.470451  0.857514  0.637216",
      "text/html": "<div>\n<style scoped>\n    .dataframe tbody tr th:only-of-type {\n        vertical-align: middle;\n    }\n\n    .dataframe tbody tr th {\n        vertical-align: top;\n    }\n\n    .dataframe thead th {\n        text-align: right;\n    }\n</style>\n<table border=\"1\" class=\"dataframe\">\n  <thead>\n    <tr style=\"text-align: right;\">\n      <th></th>\n      <th>A</th>\n      <th>B</th>\n      <th>C</th>\n      <th>D</th>\n    </tr>\n  </thead>\n  <tbody>\n    <tr>\n      <th>2022-01-01</th>\n      <td>0.162675</td>\n      <td>0.333444</td>\n      <td>0.629259</td>\n      <td>0.487863</td>\n    </tr>\n    <tr>\n      <th>2022-01-02</th>\n      <td>0.712520</td>\n      <td>0.272379</td>\n      <td>0.349200</td>\n      <td>2.615911</td>\n    </tr>\n    <tr>\n      <th>2022-01-03</th>\n      <td>0.226277</td>\n      <td>0.418445</td>\n      <td>0.983359</td>\n      <td>0.540756</td>\n    </tr>\n    <tr>\n      <th>2022-01-04</th>\n      <td>0.626870</td>\n      <td>0.571372</td>\n      <td>0.123894</td>\n      <td>1.097131</td>\n    </tr>\n    <tr>\n      <th>2022-01-05</th>\n      <td>0.970460</td>\n      <td>0.905244</td>\n      <td>0.691586</td>\n      <td>1.072043</td>\n    </tr>\n    <tr>\n      <th>2022-01-06</th>\n      <td>0.131526</td>\n      <td>0.937572</td>\n      <td>0.126933</td>\n      <td>0.140284</td>\n    </tr>\n    <tr>\n      <th>2022-01-07</th>\n      <td>0.455037</td>\n      <td>0.345282</td>\n      <td>0.810147</td>\n      <td>1.317872</td>\n    </tr>\n    <tr>\n      <th>2022-01-08</th>\n      <td>0.299779</td>\n      <td>0.470451</td>\n      <td>0.857514</td>\n      <td>0.637216</td>\n    </tr>\n  </tbody>\n</table>\n</div>"
     },
     "execution_count": 15,
     "metadata": {},
     "output_type": "execute_result"
    }
   ],
   "source": [
    "df['D'] = df['A'] / df['B']\n",
    "df"
   ],
   "metadata": {
    "collapsed": false,
    "pycharm": {
     "name": "#%%\n"
    }
   }
  },
  {
   "cell_type": "code",
   "execution_count": 26,
   "outputs": [
    {
     "data": {
      "text/plain": "                   A         B         C         D         E\n2000-01-01  0.904930  0.179675  0.995137  5.036487  7.116229\n2000-01-02  0.489956  0.824907  0.173608  0.593953  2.082425\n2000-01-03  0.371597  0.157218  0.370246  2.363580  3.262641\n2000-01-04  0.482374  0.853302  0.027618  0.565303  1.928597\n2000-01-05  0.781576  0.412517  0.810066  1.894651  3.898811",
      "text/html": "<div>\n<style scoped>\n    .dataframe tbody tr th:only-of-type {\n        vertical-align: middle;\n    }\n\n    .dataframe tbody tr th {\n        vertical-align: top;\n    }\n\n    .dataframe thead th {\n        text-align: right;\n    }\n</style>\n<table border=\"1\" class=\"dataframe\">\n  <thead>\n    <tr style=\"text-align: right;\">\n      <th></th>\n      <th>A</th>\n      <th>B</th>\n      <th>C</th>\n      <th>D</th>\n      <th>E</th>\n    </tr>\n  </thead>\n  <tbody>\n    <tr>\n      <th>2000-01-01</th>\n      <td>0.904930</td>\n      <td>0.179675</td>\n      <td>0.995137</td>\n      <td>5.036487</td>\n      <td>7.116229</td>\n    </tr>\n    <tr>\n      <th>2000-01-02</th>\n      <td>0.489956</td>\n      <td>0.824907</td>\n      <td>0.173608</td>\n      <td>0.593953</td>\n      <td>2.082425</td>\n    </tr>\n    <tr>\n      <th>2000-01-03</th>\n      <td>0.371597</td>\n      <td>0.157218</td>\n      <td>0.370246</td>\n      <td>2.363580</td>\n      <td>3.262641</td>\n    </tr>\n    <tr>\n      <th>2000-01-04</th>\n      <td>0.482374</td>\n      <td>0.853302</td>\n      <td>0.027618</td>\n      <td>0.565303</td>\n      <td>1.928597</td>\n    </tr>\n    <tr>\n      <th>2000-01-05</th>\n      <td>0.781576</td>\n      <td>0.412517</td>\n      <td>0.810066</td>\n      <td>1.894651</td>\n      <td>3.898811</td>\n    </tr>\n  </tbody>\n</table>\n</div>"
     },
     "execution_count": 26,
     "metadata": {},
     "output_type": "execute_result"
    }
   ],
   "source": [
    "import numpy as np\n",
    "index = pd.date_range('1/1/2000', periods = 8)\n",
    "df = pd.DataFrame(np.random.rand(8,3), index=index, columns=list('ABC'))\n",
    "df['D'] = df['A'] / df['B']\n",
    "df['E'] = np.sum(df, axis = 1)\n",
    "df.head()"
   ],
   "metadata": {
    "collapsed": false,
    "pycharm": {
     "name": "#%%\n"
    }
   }
  },
  {
   "cell_type": "code",
   "execution_count": 27,
   "outputs": [
    {
     "name": "stdout",
     "output_type": "stream",
     "text": [
      "A     4.834597\n",
      "B     4.160459\n",
      "C     2.943052\n",
      "D    13.461318\n",
      "E    25.399425\n",
      "dtype: float64\n"
     ]
    }
   ],
   "source": [
    "print(np.sum(df, axis = 0))\n"
   ],
   "metadata": {
    "collapsed": false,
    "pycharm": {
     "name": "#%%\n"
    }
   }
  },
  {
   "cell_type": "code",
   "execution_count": 32,
   "outputs": [
    {
     "name": "stdout",
     "output_type": "stream",
     "text": [
      "                   A         B         C          D          E\n",
      "2000-01-01  0.614966  0.945527  0.611258   0.650395   2.822146\n",
      "2000-01-02  0.768748  0.446998  0.207238   1.719801   3.142786\n",
      "2000-01-03  0.206161  0.822845  0.096475   0.250546   1.376027\n",
      "2000-01-04  0.771988  0.726376  0.104919   1.062794   2.666076\n",
      "2000-01-05  0.019385  0.894598  0.295209   0.021669   1.230862\n",
      "2000-01-06  0.367060  0.464916  0.867512   0.789521   2.489009\n",
      "2000-01-07  0.273421  0.687294  0.976727   0.397823   2.335265\n",
      "2000-01-08  0.453727  0.029210  0.305660  15.533184  16.321781\n",
      "              A         B         C          D          E\n",
      "2000-01-01  0.0  0.330561 -0.003709   0.035429   2.207180\n",
      "2000-01-02  0.0 -0.321750 -0.561510   0.951053   2.374038\n",
      "2000-01-03  0.0  0.616684 -0.109686   0.044385   1.169866\n",
      "2000-01-04  0.0 -0.045612 -0.667069   0.290806   1.894088\n",
      "2000-01-05  0.0  0.875212  0.275823   0.002284   1.211476\n",
      "2000-01-06  0.0  0.097855  0.500452   0.422460   2.121948\n",
      "2000-01-07  0.0  0.413872  0.703306   0.124402   2.061844\n",
      "2000-01-08  0.0 -0.424516 -0.148066  15.079458  15.868054\n"
     ]
    },
    {
     "data": {
      "text/plain": "              A         B         C         D         E\n2000-01-01  0.0  0.330561 -0.003709  0.035429  2.207180\n2000-01-02  0.0 -0.321750 -0.561510  0.951053  2.374038\n2000-01-03  0.0  0.616684 -0.109686  0.044385  1.169866\n2000-01-04  0.0 -0.045612 -0.667069  0.290806  1.894088\n2000-01-05  0.0  0.875212  0.275823  0.002284  1.211476",
      "text/html": "<div>\n<style scoped>\n    .dataframe tbody tr th:only-of-type {\n        vertical-align: middle;\n    }\n\n    .dataframe tbody tr th {\n        vertical-align: top;\n    }\n\n    .dataframe thead th {\n        text-align: right;\n    }\n</style>\n<table border=\"1\" class=\"dataframe\">\n  <thead>\n    <tr style=\"text-align: right;\">\n      <th></th>\n      <th>A</th>\n      <th>B</th>\n      <th>C</th>\n      <th>D</th>\n      <th>E</th>\n    </tr>\n  </thead>\n  <tbody>\n    <tr>\n      <th>2000-01-01</th>\n      <td>0.0</td>\n      <td>0.330561</td>\n      <td>-0.003709</td>\n      <td>0.035429</td>\n      <td>2.207180</td>\n    </tr>\n    <tr>\n      <th>2000-01-02</th>\n      <td>0.0</td>\n      <td>-0.321750</td>\n      <td>-0.561510</td>\n      <td>0.951053</td>\n      <td>2.374038</td>\n    </tr>\n    <tr>\n      <th>2000-01-03</th>\n      <td>0.0</td>\n      <td>0.616684</td>\n      <td>-0.109686</td>\n      <td>0.044385</td>\n      <td>1.169866</td>\n    </tr>\n    <tr>\n      <th>2000-01-04</th>\n      <td>0.0</td>\n      <td>-0.045612</td>\n      <td>-0.667069</td>\n      <td>0.290806</td>\n      <td>1.894088</td>\n    </tr>\n    <tr>\n      <th>2000-01-05</th>\n      <td>0.0</td>\n      <td>0.875212</td>\n      <td>0.275823</td>\n      <td>0.002284</td>\n      <td>1.211476</td>\n    </tr>\n  </tbody>\n</table>\n</div>"
     },
     "execution_count": 32,
     "metadata": {},
     "output_type": "execute_result"
    }
   ],
   "source": [
    "import numpy as np\n",
    "index = pd.date_range('1/1/2000', periods = 8)\n",
    "df = pd.DataFrame(np.random.rand(8,3), index=index, columns=list('ABC'))\n",
    "df['D'] = df['A'] / df['B']\n",
    "df['E'] = np.sum(df, axis = 1)\n",
    "print(df)\n",
    "df = df.sub(df['A'], axis=0) # A열의 데이터를 기준으로 행 우선 계산\n",
    "print(df)\n",
    "\n",
    "df.head()"
   ],
   "metadata": {
    "collapsed": false,
    "pycharm": {
     "name": "#%%\n"
    }
   }
  },
  {
   "cell_type": "code",
   "execution_count": 35,
   "outputs": [
    {
     "name": "stdout",
     "output_type": "stream",
     "text": [
      "                   A         B         C          D          E\n",
      "2000-01-01  0.728570  0.224882  0.850665   3.239788   5.043906\n",
      "2000-01-02  0.710460  0.692892  0.628037   1.025355   3.056744\n",
      "2000-01-03  0.175980  0.923189  0.574025   0.190621   1.863815\n",
      "2000-01-04  0.509567  0.131290  0.754152   3.881235   5.276244\n",
      "2000-01-05  0.900691  0.500029  0.017699   1.801277   3.219696\n",
      "2000-01-06  0.753193  0.332729  0.493503   2.263680   3.843106\n",
      "2000-01-07  0.737414  0.063856  0.809746  11.548028  13.159044\n",
      "2000-01-08  0.370194  0.891304  0.797010   0.415339   2.473848\n",
      "              A         B    C           D           E\n",
      "2000-01-01  0.0 -4.125377  1.0   20.567724   35.344061\n",
      "2000-01-02 -0.0  0.213144  1.0   -3.820431  -28.466102\n",
      "2000-01-03  0.0  1.877197  1.0    0.036784    4.240308\n",
      "2000-01-04  0.0 -1.546614  1.0   13.785300   19.488892\n",
      "2000-01-05 -0.0  0.453755  1.0   -1.019925   -2.626303\n",
      "2000-01-06 -0.0  1.619101  1.0   -5.816513  -11.898492\n",
      "2000-01-07  0.0 -9.311923  1.0  149.456645  171.728928\n",
      "2000-01-08  0.0  1.220924  1.0    0.105773    4.928709\n"
     ]
    },
    {
     "data": {
      "text/plain": "              A         B    C          D          E\n2000-01-01  0.0 -4.125377  1.0  20.567724  35.344061\n2000-01-02 -0.0  0.213144  1.0  -3.820431 -28.466102\n2000-01-03  0.0  1.877197  1.0   0.036784   4.240308\n2000-01-04  0.0 -1.546614  1.0  13.785300  19.488892\n2000-01-05 -0.0  0.453755  1.0  -1.019925  -2.626303",
      "text/html": "<div>\n<style scoped>\n    .dataframe tbody tr th:only-of-type {\n        vertical-align: middle;\n    }\n\n    .dataframe tbody tr th {\n        vertical-align: top;\n    }\n\n    .dataframe thead th {\n        text-align: right;\n    }\n</style>\n<table border=\"1\" class=\"dataframe\">\n  <thead>\n    <tr style=\"text-align: right;\">\n      <th></th>\n      <th>A</th>\n      <th>B</th>\n      <th>C</th>\n      <th>D</th>\n      <th>E</th>\n    </tr>\n  </thead>\n  <tbody>\n    <tr>\n      <th>2000-01-01</th>\n      <td>0.0</td>\n      <td>-4.125377</td>\n      <td>1.0</td>\n      <td>20.567724</td>\n      <td>35.344061</td>\n    </tr>\n    <tr>\n      <th>2000-01-02</th>\n      <td>-0.0</td>\n      <td>0.213144</td>\n      <td>1.0</td>\n      <td>-3.820431</td>\n      <td>-28.466102</td>\n    </tr>\n    <tr>\n      <th>2000-01-03</th>\n      <td>0.0</td>\n      <td>1.877197</td>\n      <td>1.0</td>\n      <td>0.036784</td>\n      <td>4.240308</td>\n    </tr>\n    <tr>\n      <th>2000-01-04</th>\n      <td>0.0</td>\n      <td>-1.546614</td>\n      <td>1.0</td>\n      <td>13.785300</td>\n      <td>19.488892</td>\n    </tr>\n    <tr>\n      <th>2000-01-05</th>\n      <td>-0.0</td>\n      <td>0.453755</td>\n      <td>1.0</td>\n      <td>-1.019925</td>\n      <td>-2.626303</td>\n    </tr>\n  </tbody>\n</table>\n</div>"
     },
     "execution_count": 35,
     "metadata": {},
     "output_type": "execute_result"
    }
   ],
   "source": [
    "import numpy as np\n",
    "index = pd.date_range('1/1/2000', periods = 8)\n",
    "df = pd.DataFrame(np.random.rand(8,3), index=index, columns=list('ABC'))\n",
    "df['D'] = df['A'] / df['B']\n",
    "df['E'] = np.sum(df, axis = 1)\n",
    "print(df)\n",
    "df = df.sub(df['A'], axis=0) # A열의 데이터를 기준으로 행 우선 계산\n",
    "df = df.div(df['C'], axis=0)\n",
    "df.to_csv('test.csv')\n",
    "print(df)\n",
    "df.head()"
   ],
   "metadata": {
    "collapsed": false,
    "pycharm": {
     "name": "#%%\n"
    }
   }
  },
  {
   "cell_type": "code",
   "execution_count": 36,
   "outputs": [
    {
     "data": {
      "text/plain": "                             2022년06월_계_총인구수  2022년06월_계_연령구간인구수  \\\n행정구역                                                               \n서울특별시  (1100000000)                  9494807             9494807   \n서울특별시 종로구 (1111000000)                143624              143624   \n서울특별시 종로구 청운효자동(1111051500)            11803               11803   \n서울특별시 종로구 사직동(1111053000)               9310                9310   \n서울특별시 종로구 삼청동(1111054000)               2386                2386   \n\n                             2022년06월_계_0세  2022년06월_계_1세  2022년06월_계_2세  \\\n행정구역                                                                       \n서울특별시  (1100000000)                  41427          44825          46252   \n서울특별시 종로구 (1111000000)                 449            479            542   \n서울특별시 종로구 청운효자동(1111051500)             43             46             51   \n서울특별시 종로구 사직동(1111053000)               31             31             36   \n서울특별시 종로구 삼청동(1111054000)                3              7              4   \n\n                             2022년06월_계_3세  2022년06월_계_4세  2022년06월_계_5세  \\\n행정구역                                                                       \n서울특별시  (1100000000)                  49895          53002          58509   \n서울특별시 종로구 (1111000000)                 545            594            693   \n서울특별시 종로구 청운효자동(1111051500)             50             54             86   \n서울특별시 종로구 사직동(1111053000)               48             48             63   \n서울특별시 종로구 삼청동(1111054000)                4             12              8   \n\n                             2022년06월_계_6세  2022년06월_계_7세  ...  \\\n행정구역                                                       ...   \n서울특별시  (1100000000)                  65624          67693  ...   \n서울특별시 종로구 (1111000000)                 816            809  ...   \n서울특별시 종로구 청운효자동(1111051500)             83             93  ...   \n서울특별시 종로구 사직동(1111053000)               68             75  ...   \n서울특별시 종로구 삼청동(1111054000)               13             11  ...   \n\n                             2022년06월_계_91세  2022년06월_계_92세  2022년06월_계_93세  \\\n행정구역                                                                          \n서울특별시  (1100000000)                    7853            6651            5522   \n서울특별시 종로구 (1111000000)                  168             144             121   \n서울특별시 종로구 청운효자동(1111051500)              15               7               6   \n서울특별시 종로구 사직동(1111053000)                16              13              17   \n서울특별시 종로구 삼청동(1111054000)                 4               7               1   \n\n                             2022년06월_계_94세  2022년06월_계_95세  2022년06월_계_96세  \\\n행정구역                                                                          \n서울특별시  (1100000000)                    4051            2969            1854   \n서울특별시 종로구 (1111000000)                   84              80              44   \n서울특별시 종로구 청운효자동(1111051500)               6               5               5   \n서울특별시 종로구 사직동(1111053000)                 2               7               8   \n서울특별시 종로구 삼청동(1111054000)                 3               2               1   \n\n                             2022년06월_계_97세  2022년06월_계_98세  2022년06월_계_99세  \\\n행정구역                                                                          \n서울특별시  (1100000000)                    1347            1025             964   \n서울특별시 종로구 (1111000000)                   36              26              20   \n서울특별시 종로구 청운효자동(1111051500)               3               4               0   \n서울특별시 종로구 사직동(1111053000)                 5               2               3   \n서울특별시 종로구 삼청동(1111054000)                 1               1               1   \n\n                             2022년06월_계_100세 이상  \n행정구역                                             \n서울특별시  (1100000000)                        1726  \n서울특별시 종로구 (1111000000)                       40  \n서울특별시 종로구 청운효자동(1111051500)                   3  \n서울특별시 종로구 사직동(1111053000)                     1  \n서울특별시 종로구 삼청동(1111054000)                     3  \n\n[5 rows x 103 columns]",
      "text/html": "<div>\n<style scoped>\n    .dataframe tbody tr th:only-of-type {\n        vertical-align: middle;\n    }\n\n    .dataframe tbody tr th {\n        vertical-align: top;\n    }\n\n    .dataframe thead th {\n        text-align: right;\n    }\n</style>\n<table border=\"1\" class=\"dataframe\">\n  <thead>\n    <tr style=\"text-align: right;\">\n      <th></th>\n      <th>2022년06월_계_총인구수</th>\n      <th>2022년06월_계_연령구간인구수</th>\n      <th>2022년06월_계_0세</th>\n      <th>2022년06월_계_1세</th>\n      <th>2022년06월_계_2세</th>\n      <th>2022년06월_계_3세</th>\n      <th>2022년06월_계_4세</th>\n      <th>2022년06월_계_5세</th>\n      <th>2022년06월_계_6세</th>\n      <th>2022년06월_계_7세</th>\n      <th>...</th>\n      <th>2022년06월_계_91세</th>\n      <th>2022년06월_계_92세</th>\n      <th>2022년06월_계_93세</th>\n      <th>2022년06월_계_94세</th>\n      <th>2022년06월_계_95세</th>\n      <th>2022년06월_계_96세</th>\n      <th>2022년06월_계_97세</th>\n      <th>2022년06월_계_98세</th>\n      <th>2022년06월_계_99세</th>\n      <th>2022년06월_계_100세 이상</th>\n    </tr>\n    <tr>\n      <th>행정구역</th>\n      <th></th>\n      <th></th>\n      <th></th>\n      <th></th>\n      <th></th>\n      <th></th>\n      <th></th>\n      <th></th>\n      <th></th>\n      <th></th>\n      <th></th>\n      <th></th>\n      <th></th>\n      <th></th>\n      <th></th>\n      <th></th>\n      <th></th>\n      <th></th>\n      <th></th>\n      <th></th>\n      <th></th>\n    </tr>\n  </thead>\n  <tbody>\n    <tr>\n      <th>서울특별시  (1100000000)</th>\n      <td>9494807</td>\n      <td>9494807</td>\n      <td>41427</td>\n      <td>44825</td>\n      <td>46252</td>\n      <td>49895</td>\n      <td>53002</td>\n      <td>58509</td>\n      <td>65624</td>\n      <td>67693</td>\n      <td>...</td>\n      <td>7853</td>\n      <td>6651</td>\n      <td>5522</td>\n      <td>4051</td>\n      <td>2969</td>\n      <td>1854</td>\n      <td>1347</td>\n      <td>1025</td>\n      <td>964</td>\n      <td>1726</td>\n    </tr>\n    <tr>\n      <th>서울특별시 종로구 (1111000000)</th>\n      <td>143624</td>\n      <td>143624</td>\n      <td>449</td>\n      <td>479</td>\n      <td>542</td>\n      <td>545</td>\n      <td>594</td>\n      <td>693</td>\n      <td>816</td>\n      <td>809</td>\n      <td>...</td>\n      <td>168</td>\n      <td>144</td>\n      <td>121</td>\n      <td>84</td>\n      <td>80</td>\n      <td>44</td>\n      <td>36</td>\n      <td>26</td>\n      <td>20</td>\n      <td>40</td>\n    </tr>\n    <tr>\n      <th>서울특별시 종로구 청운효자동(1111051500)</th>\n      <td>11803</td>\n      <td>11803</td>\n      <td>43</td>\n      <td>46</td>\n      <td>51</td>\n      <td>50</td>\n      <td>54</td>\n      <td>86</td>\n      <td>83</td>\n      <td>93</td>\n      <td>...</td>\n      <td>15</td>\n      <td>7</td>\n      <td>6</td>\n      <td>6</td>\n      <td>5</td>\n      <td>5</td>\n      <td>3</td>\n      <td>4</td>\n      <td>0</td>\n      <td>3</td>\n    </tr>\n    <tr>\n      <th>서울특별시 종로구 사직동(1111053000)</th>\n      <td>9310</td>\n      <td>9310</td>\n      <td>31</td>\n      <td>31</td>\n      <td>36</td>\n      <td>48</td>\n      <td>48</td>\n      <td>63</td>\n      <td>68</td>\n      <td>75</td>\n      <td>...</td>\n      <td>16</td>\n      <td>13</td>\n      <td>17</td>\n      <td>2</td>\n      <td>7</td>\n      <td>8</td>\n      <td>5</td>\n      <td>2</td>\n      <td>3</td>\n      <td>1</td>\n    </tr>\n    <tr>\n      <th>서울특별시 종로구 삼청동(1111054000)</th>\n      <td>2386</td>\n      <td>2386</td>\n      <td>3</td>\n      <td>7</td>\n      <td>4</td>\n      <td>4</td>\n      <td>12</td>\n      <td>8</td>\n      <td>13</td>\n      <td>11</td>\n      <td>...</td>\n      <td>4</td>\n      <td>7</td>\n      <td>1</td>\n      <td>3</td>\n      <td>2</td>\n      <td>1</td>\n      <td>1</td>\n      <td>1</td>\n      <td>1</td>\n      <td>3</td>\n    </tr>\n  </tbody>\n</table>\n<p>5 rows × 103 columns</p>\n</div>"
     },
     "execution_count": 36,
     "metadata": {},
     "output_type": "execute_result"
    }
   ],
   "source": [
    "import pandas as pd\n",
    "df = pd.read_csv('age.csv', encoding='cp949', index_col = 0)\n",
    "df.head()"
   ],
   "metadata": {
    "collapsed": false,
    "pycharm": {
     "name": "#%%\n"
    }
   }
  },
  {
   "cell_type": "code",
   "execution_count": 46,
   "outputs": [
    {
     "data": {
      "text/plain": "                                 0세        1세        2세        3세        4세  \\\n서울시  (1100000000)          0.004363  0.004721  0.004871  0.005255  0.005582   \n서울시 종로구 (1111000000)       0.003126  0.003335  0.003774  0.003795  0.004136   \n서울시 종로구 청운효자동(1111051500)  0.003643  0.003897  0.004321  0.004236  0.004575   \n서울시 종로구 사직동(1111053000)    0.003330  0.003330  0.003867  0.005156  0.005156   \n서울시 종로구 삼청동(1111054000)    0.001257  0.002934  0.001676  0.001676  0.005029   \n\n                                 5세        6세        7세        8세        9세  \\\n서울시  (1100000000)          0.006162  0.006912  0.007129  0.006990  0.007493   \n서울시 종로구 (1111000000)       0.004825  0.005682  0.005633  0.005786  0.006580   \n서울시 종로구 청운효자동(1111051500)  0.007286  0.007032  0.007879  0.008049  0.008049   \n서울시 종로구 사직동(1111053000)    0.006767  0.007304  0.008056  0.006660  0.007841   \n서울시 종로구 삼청동(1111054000)    0.003353  0.005448  0.004610  0.005448  0.006706   \n\n                           ...       91세       92세       93세       94세  \\\n서울시  (1100000000)          ...  0.000827  0.000700  0.000582  0.000427   \n서울시 종로구 (1111000000)       ...  0.001170  0.001003  0.000842  0.000585   \n서울시 종로구 청운효자동(1111051500)  ...  0.001271  0.000593  0.000508  0.000508   \n서울시 종로구 사직동(1111053000)    ...  0.001719  0.001396  0.001826  0.000215   \n서울시 종로구 삼청동(1111054000)    ...  0.001676  0.002934  0.000419  0.001257   \n\n                                95세       96세       97세       98세       99세  \\\n서울시  (1100000000)          0.000313  0.000195  0.000142  0.000108  0.000102   \n서울시 종로구 (1111000000)       0.000557  0.000306  0.000251  0.000181  0.000139   \n서울시 종로구 청운효자동(1111051500)  0.000424  0.000424  0.000254  0.000339  0.000000   \n서울시 종로구 사직동(1111053000)    0.000752  0.000859  0.000537  0.000215  0.000322   \n서울시 종로구 삼청동(1111054000)    0.000838  0.000419  0.000419  0.000419  0.000419   \n\n                            100세 이상  \n서울시  (1100000000)          0.000182  \n서울시 종로구 (1111000000)       0.000279  \n서울시 종로구 청운효자동(1111051500)  0.000254  \n서울시 종로구 사직동(1111053000)    0.000107  \n서울시 종로구 삼청동(1111054000)    0.001257  \n\n[5 rows x 101 columns]",
      "text/html": "<div>\n<style scoped>\n    .dataframe tbody tr th:only-of-type {\n        vertical-align: middle;\n    }\n\n    .dataframe tbody tr th {\n        vertical-align: top;\n    }\n\n    .dataframe thead th {\n        text-align: right;\n    }\n</style>\n<table border=\"1\" class=\"dataframe\">\n  <thead>\n    <tr style=\"text-align: right;\">\n      <th></th>\n      <th>0세</th>\n      <th>1세</th>\n      <th>2세</th>\n      <th>3세</th>\n      <th>4세</th>\n      <th>5세</th>\n      <th>6세</th>\n      <th>7세</th>\n      <th>8세</th>\n      <th>9세</th>\n      <th>...</th>\n      <th>91세</th>\n      <th>92세</th>\n      <th>93세</th>\n      <th>94세</th>\n      <th>95세</th>\n      <th>96세</th>\n      <th>97세</th>\n      <th>98세</th>\n      <th>99세</th>\n      <th>100세 이상</th>\n    </tr>\n  </thead>\n  <tbody>\n    <tr>\n      <th>서울시  (1100000000)</th>\n      <td>0.004363</td>\n      <td>0.004721</td>\n      <td>0.004871</td>\n      <td>0.005255</td>\n      <td>0.005582</td>\n      <td>0.006162</td>\n      <td>0.006912</td>\n      <td>0.007129</td>\n      <td>0.006990</td>\n      <td>0.007493</td>\n      <td>...</td>\n      <td>0.000827</td>\n      <td>0.000700</td>\n      <td>0.000582</td>\n      <td>0.000427</td>\n      <td>0.000313</td>\n      <td>0.000195</td>\n      <td>0.000142</td>\n      <td>0.000108</td>\n      <td>0.000102</td>\n      <td>0.000182</td>\n    </tr>\n    <tr>\n      <th>서울시 종로구 (1111000000)</th>\n      <td>0.003126</td>\n      <td>0.003335</td>\n      <td>0.003774</td>\n      <td>0.003795</td>\n      <td>0.004136</td>\n      <td>0.004825</td>\n      <td>0.005682</td>\n      <td>0.005633</td>\n      <td>0.005786</td>\n      <td>0.006580</td>\n      <td>...</td>\n      <td>0.001170</td>\n      <td>0.001003</td>\n      <td>0.000842</td>\n      <td>0.000585</td>\n      <td>0.000557</td>\n      <td>0.000306</td>\n      <td>0.000251</td>\n      <td>0.000181</td>\n      <td>0.000139</td>\n      <td>0.000279</td>\n    </tr>\n    <tr>\n      <th>서울시 종로구 청운효자동(1111051500)</th>\n      <td>0.003643</td>\n      <td>0.003897</td>\n      <td>0.004321</td>\n      <td>0.004236</td>\n      <td>0.004575</td>\n      <td>0.007286</td>\n      <td>0.007032</td>\n      <td>0.007879</td>\n      <td>0.008049</td>\n      <td>0.008049</td>\n      <td>...</td>\n      <td>0.001271</td>\n      <td>0.000593</td>\n      <td>0.000508</td>\n      <td>0.000508</td>\n      <td>0.000424</td>\n      <td>0.000424</td>\n      <td>0.000254</td>\n      <td>0.000339</td>\n      <td>0.000000</td>\n      <td>0.000254</td>\n    </tr>\n    <tr>\n      <th>서울시 종로구 사직동(1111053000)</th>\n      <td>0.003330</td>\n      <td>0.003330</td>\n      <td>0.003867</td>\n      <td>0.005156</td>\n      <td>0.005156</td>\n      <td>0.006767</td>\n      <td>0.007304</td>\n      <td>0.008056</td>\n      <td>0.006660</td>\n      <td>0.007841</td>\n      <td>...</td>\n      <td>0.001719</td>\n      <td>0.001396</td>\n      <td>0.001826</td>\n      <td>0.000215</td>\n      <td>0.000752</td>\n      <td>0.000859</td>\n      <td>0.000537</td>\n      <td>0.000215</td>\n      <td>0.000322</td>\n      <td>0.000107</td>\n    </tr>\n    <tr>\n      <th>서울시 종로구 삼청동(1111054000)</th>\n      <td>0.001257</td>\n      <td>0.002934</td>\n      <td>0.001676</td>\n      <td>0.001676</td>\n      <td>0.005029</td>\n      <td>0.003353</td>\n      <td>0.005448</td>\n      <td>0.004610</td>\n      <td>0.005448</td>\n      <td>0.006706</td>\n      <td>...</td>\n      <td>0.001676</td>\n      <td>0.002934</td>\n      <td>0.000419</td>\n      <td>0.001257</td>\n      <td>0.000838</td>\n      <td>0.000419</td>\n      <td>0.000419</td>\n      <td>0.000419</td>\n      <td>0.000419</td>\n      <td>0.001257</td>\n    </tr>\n  </tbody>\n</table>\n<p>5 rows × 101 columns</p>\n</div>"
     },
     "execution_count": 46,
     "metadata": {},
     "output_type": "execute_result"
    }
   ],
   "source": [
    "import pandas as pd\n",
    "df = pd.read_csv('age.csv', encoding='cp949', index_col = 0)\n",
    "#df.head()\n",
    "df = df.div(df['2022년06월_계_총인구수'], axis=0)\n",
    "del df['2022년06월_계_총인구수'], df[\"2022년06월_계_연령구간인구수\"]\n",
    "#print(df)\n",
    "columns_name = []\n",
    "for name in df.columns:\n",
    "    columns_name.append(str(name).replace(\"2022년06월_계_\",\"\"))\n",
    "df.columns = columns_name\n",
    "indexs_name = []\n",
    "for name in df.index:\n",
    "    indexs_name.append( str(name).replace(\"제1동\",\"1동\").replace(\"서울특별시\",\"서울시\"))\n",
    "df.index = indexs_name\n",
    "df.head()"
   ],
   "metadata": {
    "collapsed": false,
    "pycharm": {
     "name": "#%%\n"
    }
   }
  },
  {
   "cell_type": "code",
   "execution_count": 71,
   "outputs": [
    {
     "data": {
      "text/plain": "                                    0세        1세        2세        3세  \\\n충청북도 청주시 흥덕구 강내면(4311331000)  0.004485  0.002896  0.004672  0.003177   \n\n                                    4세        5세        6세        7세  \\\n충청북도 청주시 흥덕구 강내면(4311331000)  0.005139  0.005232  0.007848  0.006727   \n\n                                    8세       9세  ...       91세       92세  \\\n충청북도 청주시 흥덕구 강내면(4311331000)  0.008035  0.00953  ...  0.001121  0.000654   \n\n                                   93세       94세       95세       96세      97세  \\\n충청북도 청주시 흥덕구 강내면(4311331000)  0.000374  0.000561  0.000187  0.000187  0.00028   \n\n                              98세       99세   100세 이상  \n충청북도 청주시 흥덕구 강내면(4311331000)  0.0  0.000187  0.000187  \n\n[1 rows x 101 columns]",
      "text/html": "<div>\n<style scoped>\n    .dataframe tbody tr th:only-of-type {\n        vertical-align: middle;\n    }\n\n    .dataframe tbody tr th {\n        vertical-align: top;\n    }\n\n    .dataframe thead th {\n        text-align: right;\n    }\n</style>\n<table border=\"1\" class=\"dataframe\">\n  <thead>\n    <tr style=\"text-align: right;\">\n      <th></th>\n      <th>0세</th>\n      <th>1세</th>\n      <th>2세</th>\n      <th>3세</th>\n      <th>4세</th>\n      <th>5세</th>\n      <th>6세</th>\n      <th>7세</th>\n      <th>8세</th>\n      <th>9세</th>\n      <th>...</th>\n      <th>91세</th>\n      <th>92세</th>\n      <th>93세</th>\n      <th>94세</th>\n      <th>95세</th>\n      <th>96세</th>\n      <th>97세</th>\n      <th>98세</th>\n      <th>99세</th>\n      <th>100세 이상</th>\n    </tr>\n  </thead>\n  <tbody>\n    <tr>\n      <th>충청북도 청주시 흥덕구 강내면(4311331000)</th>\n      <td>0.004485</td>\n      <td>0.002896</td>\n      <td>0.004672</td>\n      <td>0.003177</td>\n      <td>0.005139</td>\n      <td>0.005232</td>\n      <td>0.007848</td>\n      <td>0.006727</td>\n      <td>0.008035</td>\n      <td>0.00953</td>\n      <td>...</td>\n      <td>0.001121</td>\n      <td>0.000654</td>\n      <td>0.000374</td>\n      <td>0.000561</td>\n      <td>0.000187</td>\n      <td>0.000187</td>\n      <td>0.00028</td>\n      <td>0.0</td>\n      <td>0.000187</td>\n      <td>0.000187</td>\n    </tr>\n  </tbody>\n</table>\n<p>1 rows × 101 columns</p>\n</div>"
     },
     "execution_count": 71,
     "metadata": {},
     "output_type": "execute_result"
    }
   ],
   "source": [
    "import pandas as pd\n",
    "df = pd.read_csv('age.csv', encoding='cp949', index_col = 0)\n",
    "#df.head()\n",
    "df = df.div(df['2022년06월_계_총인구수'], axis=0)\n",
    "del df['2022년06월_계_총인구수'], df[\"2022년06월_계_연령구간인구수\"]\n",
    "#print(df)\n",
    "columns_name = []\n",
    "for name in df.columns:\n",
    "    columns_name.append(str(name).replace(\"2022년06월_계_\",\"\"))\n",
    "df.columns = columns_name\n",
    "indexs_name = []\n",
    "for name in df.index:\n",
    "    indexs_name.append( str(name).replace(\"제1동\",\"1동\") )\n",
    "df.index = indexs_name\n",
    "df.head()\n",
    "\n",
    "#name = input(\"원하는 지역의 이름을 입력해주세요 : \")\n",
    "name = \"강내면\"\n",
    "a = df.index.str.contains(name)\n",
    "#b = df.index.str.contains(\"구 \\(\")\n",
    "#df2 = df[a & b]\n",
    "df2 = df[a]\n",
    "df2.head()"
   ],
   "metadata": {
    "collapsed": false,
    "pycharm": {
     "name": "#%%\n"
    }
   }
  },
  {
   "cell_type": "code",
   "execution_count": 75,
   "outputs": [
    {
     "name": "stdout",
     "output_type": "stream",
     "text": [
      "                                    0세        1세        2세        3세  \\\n",
      "충청북도 청주시 흥덕구 강내면(4311331000)  0.004485  0.002896  0.004672  0.003177   \n",
      "\n",
      "                                    4세        5세        6세        7세  \\\n",
      "충청북도 청주시 흥덕구 강내면(4311331000)  0.005139  0.005232  0.007848  0.006727   \n",
      "\n",
      "                                    8세       9세  ...       91세       92세  \\\n",
      "충청북도 청주시 흥덕구 강내면(4311331000)  0.008035  0.00953  ...  0.001121  0.000654   \n",
      "\n",
      "                                   93세       94세       95세       96세      97세  \\\n",
      "충청북도 청주시 흥덕구 강내면(4311331000)  0.000374  0.000561  0.000187  0.000187  0.00028   \n",
      "\n",
      "                              98세       99세   100세 이상  \n",
      "충청북도 청주시 흥덕구 강내면(4311331000)  0.0  0.000187  0.000187  \n",
      "\n",
      "[1 rows x 101 columns]\n",
      "         충청북도 청주시 흥덕구 강내면(4311331000)\n",
      "0세                           0.004485\n",
      "1세                           0.002896\n",
      "2세                           0.004672\n",
      "3세                           0.003177\n",
      "4세                           0.005139\n",
      "...                               ...\n",
      "96세                          0.000187\n",
      "97세                          0.000280\n",
      "98세                          0.000000\n",
      "99세                          0.000187\n",
      "100세 이상                      0.000187\n",
      "\n",
      "[101 rows x 1 columns]\n"
     ]
    },
    {
     "data": {
      "text/plain": "<Figure size 3000x1200 with 0 Axes>"
     },
     "metadata": {},
     "output_type": "display_data"
    },
    {
     "data": {
      "text/plain": "<Figure size 432x288 with 1 Axes>",
      "image/png": "[encoded data removed]"
     },
     "metadata": {},
     "output_type": "display_data"
    }
   ],
   "source": [
    "import pandas as pd\n",
    "df = pd.read_csv('age.csv', encoding='cp949', index_col = 0)\n",
    "#df.head()\n",
    "df = df.div(df['2022년06월_계_총인구수'], axis=0)\n",
    "del df['2022년06월_계_총인구수'], df[\"2022년06월_계_연령구간인구수\"]\n",
    "#print(df)\n",
    "columns_name = []\n",
    "for name in df.columns:\n",
    "    columns_name.append(str(name).replace(\"2022년06월_계_\",\"\"))\n",
    "df.columns = columns_name\n",
    "indexs_name = []\n",
    "for name in df.index:\n",
    "    indexs_name.append( str(name).replace(\"제1동\",\"1동\") )\n",
    "df.index = indexs_name\n",
    "df.head()\n",
    "\n",
    "#name = input(\"원하는 지역의 이름을 입력해주세요 : \")\n",
    "name = \"강내면\"\n",
    "a = df.index.str.contains(name)\n",
    "#b = df.index.str.contains(\"구 \\(\")\n",
    "#df2 = df[a & b]\n",
    "df2 = df[a]\n",
    "df2.head()\n",
    "print(df2)\n",
    "print(df2.T)\n",
    "import matplotlib.pyplot as plt\n",
    "plt.rc(\"font\", family=\"Malgun Gothic\")\n",
    "plt.figure(figsize=(10,4),dpi=300)\n",
    "plt.style.use('ggplot')\n",
    "df2.T.plot()\n",
    "plt.show()"
   ],
   "metadata": {
    "collapsed": false,
    "pycharm": {
     "name": "#%%\n"
    }
   }
  },
  {
   "cell_type": "code",
   "execution_count": 117,
   "outputs": [
    {
     "data": {
      "text/plain": "<Figure size 432x288 with 1 Axes>",
      "image/png": "[encoded data removed]"
     },
     "metadata": {},
     "output_type": "display_data"
    }
   ],
   "source": [
    "import pandas as pd\n",
    "df = pd.read_csv('age.csv', encoding='cp949', index_col = 0)\n",
    "#df.head()\n",
    "\n",
    "df=df[df['2022년06월_계_총인구수']>0]\n",
    "\n",
    "df = df.div(df['2022년06월_계_총인구수'], axis=0)\n",
    "del df['2022년06월_계_총인구수'], df[\"2022년06월_계_연령구간인구수\"]\n",
    "#print(df)\n",
    "\n",
    "columns_name = []\n",
    "for name in df.columns:\n",
    "    columns_name.append(str(name).replace(\"2022년06월_계_\",\"\"))\n",
    "df.columns = columns_name\n",
    "'''\n",
    "indexs_name = []\n",
    "for name in df.index:\n",
    "    indexs_name.append( str(name).replace(\"제1동\",\"1동\") )\n",
    "df.index = indexs_name\n",
    "df.head()\n",
    "'''\n",
    "#name = input(\"원하는 지역의 이름을 입력해주세요 : \")\n",
    "name = \"강내면\"\n",
    "a = df.index.str.contains(name)\n",
    "#b = df.index.str.contains(\"구 \\(\")\n",
    "#df2 = df[a & b]\n",
    "df2 = df[a]\n",
    "df2.head()\n",
    "#print(df2)\n",
    "#print(df2.T)\n",
    "\n",
    "# 제로 데이터인 자료 제거(결측치 데이터들)\n",
    "#zerodatas = df.sum(axis=1) != 0\n",
    "#df = df.loc[zerodatas]\n",
    "# 미리 아래와 같은 코드를 실행하면 위와 같은 sum 작업을 안해도 된다!!! 전처리 단계서 작업할 것이 필요.\n",
    "#df=df[df['2022년6월_계_총인구수']>0]\n",
    "\n",
    "'''\n",
    "import matplotlib.pyplot as plt\n",
    "plt.rc(\"font\", family=\"Malgun Gothic\")\n",
    "plt.figure(figsize=(10,4),dpi=300)\n",
    "plt.style.use('ggplot')\n",
    "df2.T.plot()\n",
    "plt.show()\n",
    "'''\n",
    "\n",
    "import matplotlib.pyplot as plt\n",
    "plt.rc(\"font\", family=\"Malgun Gothic\")\n",
    "df.loc[np.power(df.sub(df2.iloc[0], axis = 1), 2).sum(axis=1).sort_values().index[:5]].T.plot()\n",
    "'''\n",
    "x = df.sub(df2.iloc[0], axis = 1)\n",
    "y = np.power(x, 2)\n",
    "z = y.sum(axis=1)\n",
    "i = z.sort_values().index[:5]\n",
    "df.loc[i].T.plot()\n",
    "'''\n",
    "plt.show()\n"
   ],
   "metadata": {
    "collapsed": false,
    "pycharm": {
     "name": "#%%\n"
    }
   }
  },
  {
   "cell_type": "code",
   "execution_count": null,
   "outputs": [],
   "source": [],
   "metadata": {
    "collapsed": false,
    "pycharm": {
     "name": "#%%\n"
    }
   }
  }
 ],
 "metadata": {
  "kernelspec": {
   "display_name": "Python 3",
   "language": "python",
   "name": "python3"
  },
  "language_info": {
   "codemirror_mode": {
    "name": "ipython",
    "version": 2
   },
   "file_extension": ".py",
   "mimetype": "text/x-python",
   "name": "python",
   "nbconvert_exporter": "python",
   "pygments_lexer": "ipython2",
   "version": "2.7.6"
  }
 },
 "nbformat": 4,
 "nbformat_minor": 0
}