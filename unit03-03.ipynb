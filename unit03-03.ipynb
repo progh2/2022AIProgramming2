{
 "cells": [
  {
   "cell_type": "code",
   "execution_count": 4,
   "id": "c648397d",
   "metadata": {},
   "outputs": [
    {
     "name": "stdout",
     "output_type": "stream",
     "text": [
      "기상 관측 이래 서울의 최고 기온이 높았더 날은 2018-08-01로 39.6 도 였습니다.\n"
     ]
    }
   ],
   "source": [
    "# 데이터 불러오기 ]\n",
    "import csv\n",
    "f = open('seoul.csv', 'r', encoding='cp949')\n",
    "data = csv.reader(f, delimiter=',')\n",
    "\n",
    "max_temp = -999\n",
    "max_date = ''\n",
    "\n",
    "# 헤더 데이터 분리\n",
    "header = next(data)\n",
    "#print(header)\n",
    "\n",
    "# 본문 데이터(헤더가 제거됨)\n",
    "for row in data:\n",
    "    #데이터 검증\n",
    "    if row[4] == '':\n",
    "        row[4] = -999        \n",
    "    # 실수로 변환\n",
    "    row[4] = float(row[4]) \n",
    "    \n",
    "    if max_temp < row[-1]:\n",
    "        max_date = row[0]\n",
    "        max_temp = row[-1]\n",
    "    #print(row)\n",
    "f.close()\n",
    "\n",
    "print(\"기상 관측 이래 서울의 최고 기온이 높았더 날은\", max_date + \"로\", max_temp, \"도 였습니다.\")"
   ]
  },
  {
   "cell_type": "code",
   "execution_count": 23,
   "id": "a0284bfe",
   "metadata": {
    "scrolled": true
   },
   "outputs": [
    {
     "name": "stdout",
     "output_type": "stream",
     "text": [
      "Hello\n"
     ]
    }
   ],
   "source": [
    "# 데이터 불러오기 ]\n",
    "import csv\n",
    "f = open('seoul.csv', 'r', encoding='cp949')\n",
    "data = csv.reader(f, delimiter=',')\n",
    "\n",
    "max_temp = -999\n",
    "max_date = ''\n",
    "\n",
    "# 헤더 데이터 분리\n",
    "header = next(data)\n",
    "#print(header)\n",
    "\n",
    "# 본문 데이터(헤더가 제거됨)\n",
    "for row in data:\n",
    "    #데이터 검증\n",
    "    if row[4] == '':\n",
    "        row[4] = -999        \n",
    "    # 실수로 변환\n",
    "    row[4] = float(row[4]) \n",
    "    \n",
    "    if max_temp < row[-1]:\n",
    "        max_date = row[0]\n",
    "        max_temp = row[-1]\n",
    "    #print(row)\n",
    "f.close()\n",
    "\n",
    "print(\"기상 관측 이래 서울의 최고 기온이 높았더 날은\", max_date + \"로\", max_temp, \"도 였습니다.\")"
   ]
  },
  {
   "cell_type": "code",
   "execution_count": null,
   "id": "2a41c035",
   "metadata": {},
   "outputs": [],
   "source": []
  }
 ],
 "metadata": {
  "kernelspec": {
   "display_name": "Python 3 (ipykernel)",
   "language": "python",
   "name": "python3"
  },
  "language_info": {
   "codemirror_mode": {
    "name": "ipython",
    "version": 3
   },
   "file_extension": ".py",
   "mimetype": "text/x-python",
   "name": "python",
   "nbconvert_exporter": "python",
   "pygments_lexer": "ipython3",
   "version": "3.9.12"
  }
 },
 "nbformat": 4,
 "nbformat_minor": 5
}
